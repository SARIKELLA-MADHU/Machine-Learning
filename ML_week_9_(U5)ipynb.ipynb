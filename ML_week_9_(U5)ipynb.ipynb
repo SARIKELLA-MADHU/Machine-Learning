{
  "nbformat": 4,
  "nbformat_minor": 0,
  "metadata": {
    "colab": {
      "provenance": [],
      "authorship_tag": "ABX9TyO8QuEbV1RmdBs2ZxG+T+wE",
      "include_colab_link": true
    },
    "kernelspec": {
      "name": "python3",
      "display_name": "Python 3"
    },
    "language_info": {
      "name": "python"
    }
  },
  "cells": [
    {
      "cell_type": "markdown",
      "metadata": {
        "id": "view-in-github",
        "colab_type": "text"
      },
      "source": [
        "<a href=\"https://colab.research.google.com/github/SARIKELLA-MADHU/Machine-Learning/blob/main/ML_week_9_(U5)ipynb.ipynb\" target=\"_parent\"><img src=\"https://colab.research.google.com/assets/colab-badge.svg\" alt=\"Open In Colab\"/></a>"
      ]
    },
    {
      "cell_type": "code",
      "execution_count": 1,
      "metadata": {
        "colab": {
          "base_uri": "https://localhost:8080/"
        },
        "id": "Gnvny8Xm6NZ6",
        "outputId": "946d53d3-f099-4f7d-d242-388658c97cc9"
      },
      "outputs": [
        {
          "output_type": "stream",
          "name": "stdout",
          "text": [
            "Weights: [0.2 0.1] Bias: -0.2\n"
          ]
        }
      ],
      "source": [
        "import numpy as np\n",
        "\n",
        "# Input data (AND gate)\n",
        "X = np.array([[0,0],[0,1],[1,0],[1,1]])\n",
        "y = np.array([0,0,0,1])  # AND output\n",
        "\n",
        "# Initialize weights and bias\n",
        "w = np.zeros(X.shape[1])\n",
        "b = 0\n",
        "lr = 0.1  # learning rate\n",
        "\n",
        "# Training loop\n",
        "for epoch in range(10):\n",
        "    for i in range(len(X)):\n",
        "        y_pred = np.dot(X[i], w) + b\n",
        "        y_pred = 1 if y_pred > 0 else 0\n",
        "        error = y[i] - y_pred\n",
        "        w += lr * error * X[i]\n",
        "        b += lr * error\n",
        "\n",
        "print(\"Weights:\", w, \"Bias:\", b)\n"
      ]
    },
    {
      "cell_type": "code",
      "source": [
        "import numpy as np\n",
        "\n",
        "def activation(x):\n",
        "    return 1 if x >= 0 else 0\n",
        "\n",
        "def perceptron_train(X, y, lr=0.1, epochs=10):\n",
        "    w = np.zeros(X.shape[1])\n",
        "    b = 0\n",
        "    for _ in range(epochs):\n",
        "        for i in range(len(X)):\n",
        "            z = np.dot(X[i], w) + b\n",
        "            y_pred = activation(z)\n",
        "            error = y[i] - y_pred\n",
        "            w += lr * error * X[i]\n",
        "            b += lr * error\n",
        "    return w, b\n",
        "\n",
        "# AND gate\n",
        "X = np.array([[0,0],[0,1],[1,0],[1,1]])\n",
        "y_and = np.array([0,0,0,1])\n",
        "w, b = perceptron_train(X, y_and)\n",
        "print(\"AND weights:\", w, \"bias:\", b)\n",
        "\n",
        "# OR gate\n",
        "y_or = np.array([0,1,1,1])\n",
        "w, b = perceptron_train(X, y_or)\n",
        "print(\"OR weights:\", w, \"bias:\", b)\n"
      ],
      "metadata": {
        "colab": {
          "base_uri": "https://localhost:8080/"
        },
        "id": "SySnnY4J8p3n",
        "outputId": "97d38345-1e08-4aba-b014-f097fca200d4"
      },
      "execution_count": 2,
      "outputs": [
        {
          "output_type": "stream",
          "name": "stdout",
          "text": [
            "AND weights: [0.2 0.1] bias: -0.20000000000000004\n",
            "OR weights: [0.1 0.1] bias: -0.1\n"
          ]
        }
      ]
    },
    {
      "cell_type": "code",
      "source": [
        "from sklearn.neural_network import MLPClassifier\n",
        "\n",
        "X = [[0,0],[0,1],[1,0],[1,1]]\n",
        "y = [0,1,1,0]\n",
        "\n",
        "model = MLPClassifier(hidden_layer_sizes=(2,), activation='tanh', max_iter=5000)\n",
        "model.fit(X, y)\n",
        "\n",
        "print(\"Predictions:\", model.predict(X))\n"
      ],
      "metadata": {
        "colab": {
          "base_uri": "https://localhost:8080/"
        },
        "id": "D2oVTEaT8ug6",
        "outputId": "925d674a-3ee4-4fbe-8973-f6fe295daf2e"
      },
      "execution_count": 3,
      "outputs": [
        {
          "output_type": "stream",
          "name": "stdout",
          "text": [
            "Predictions: [0 0 1 1]\n"
          ]
        }
      ]
    },
    {
      "cell_type": "code",
      "source": [
        "from sklearn.neural_network import MLPClassifier\n",
        "\n",
        "X = [[0,0],[0,1],[1,0],[1,1]]\n",
        "y = [0,1,1,0]  # XOR\n",
        "\n",
        "for neurons in [2, 4, 6, 8]:\n",
        "    model = MLPClassifier(hidden_layer_sizes=(neurons,), max_iter=5000, activation='relu')\n",
        "    model.fit(X, y)\n",
        "    print(f\"Hidden neurons: {neurons} | Accuracy: {model.score(X, y):.2f}\")\n"
      ],
      "metadata": {
        "colab": {
          "base_uri": "https://localhost:8080/"
        },
        "id": "6CxHMmgy8xM_",
        "outputId": "6e6b05aa-be32-4a24-b44c-51a430663e06"
      },
      "execution_count": 5,
      "outputs": [
        {
          "output_type": "stream",
          "name": "stdout",
          "text": [
            "Hidden neurons: 2 | Accuracy: 0.50\n",
            "Hidden neurons: 4 | Accuracy: 0.75\n",
            "Hidden neurons: 6 | Accuracy: 1.00\n",
            "Hidden neurons: 8 | Accuracy: 1.00\n"
          ]
        }
      ]
    },
    {
      "cell_type": "code",
      "source": [
        "# ⚙️ Import Libraries\n",
        "from sklearn.datasets import load_digits\n",
        "from sklearn.model_selection import train_test_split\n",
        "from sklearn.neural_network import MLPClassifier\n",
        "from sklearn.preprocessing import StandardScaler\n",
        "import time\n",
        "\n",
        "start_time = time.time()\n",
        "\n",
        "# 🧠 Load smaller digits dataset (8x8 grayscale images)\n",
        "digits = load_digits()\n",
        "X, y = digits.data, digits.target\n",
        "\n",
        "# 🔧 Scale features (important for MLP)\n",
        "scaler = StandardScaler()\n",
        "X_scaled = scaler.fit_transform(X)\n",
        "\n",
        "# 📊 Split data\n",
        "X_train, X_test, y_train, y_test = train_test_split(\n",
        "    X_scaled, y, test_size=0.2, random_state=42\n",
        ")\n",
        "\n",
        "# 🤖 Define MLP Model (fast and simple)\n",
        "mlp = MLPClassifier(hidden_layer_sizes=(64,),\n",
        "                    activation='relu',\n",
        "                    solver='adam',\n",
        "                    max_iter=50,\n",
        "                    learning_rate_init=0.001,\n",
        "                    early_stopping=True,\n",
        "                    random_state=42,\n",
        "                    verbose=True)\n",
        "\n",
        "# 🚀 Train model\n",
        "mlp.fit(X_train, y_train)\n",
        "\n",
        "# 📈 Evaluate\n",
        "print(\"\\nTrain Accuracy:\", mlp.score(X_train, y_train))\n",
        "print(\"Test Accuracy:\", mlp.score(X_test, y_test))\n",
        "print(\"Final Loss:\", mlp.loss_)\n",
        "print(\"Training Time: %.2f seconds\" % (time.time() - start_time))\n"
      ],
      "metadata": {
        "colab": {
          "base_uri": "https://localhost:8080/"
        },
        "id": "VPCItcgA86WQ",
        "outputId": "621d3f26-54e7-4d85-e68b-8753d9a69a41"
      },
      "execution_count": 1,
      "outputs": [
        {
          "output_type": "stream",
          "name": "stdout",
          "text": [
            "Iteration 1, loss = 2.32050420\n",
            "Validation score: 0.194444\n",
            "Iteration 2, loss = 1.94263864\n",
            "Validation score: 0.375000\n",
            "Iteration 3, loss = 1.63492736\n",
            "Validation score: 0.506944\n",
            "Iteration 4, loss = 1.38155446\n",
            "Validation score: 0.673611\n",
            "Iteration 5, loss = 1.17645235\n",
            "Validation score: 0.784722\n",
            "Iteration 6, loss = 1.00918333\n",
            "Validation score: 0.812500\n",
            "Iteration 7, loss = 0.87750919\n",
            "Validation score: 0.854167\n",
            "Iteration 8, loss = 0.76783589\n",
            "Validation score: 0.868056\n",
            "Iteration 9, loss = 0.67758609\n",
            "Validation score: 0.875000\n",
            "Iteration 10, loss = 0.60276193\n",
            "Validation score: 0.881944\n",
            "Iteration 11, loss = 0.53915579\n",
            "Validation score: 0.895833\n",
            "Iteration 12, loss = 0.48558924\n",
            "Validation score: 0.902778\n",
            "Iteration 13, loss = 0.43946204\n",
            "Validation score: 0.902778\n",
            "Iteration 14, loss = 0.39963385\n",
            "Validation score: 0.902778\n",
            "Iteration 15, loss = 0.36546901\n",
            "Validation score: 0.902778\n",
            "Iteration 16, loss = 0.33595574\n",
            "Validation score: 0.909722\n",
            "Iteration 17, loss = 0.30972435\n",
            "Validation score: 0.916667\n",
            "Iteration 18, loss = 0.28695083\n",
            "Validation score: 0.930556\n",
            "Iteration 19, loss = 0.26666808\n",
            "Validation score: 0.923611\n",
            "Iteration 20, loss = 0.24914292\n",
            "Validation score: 0.930556\n",
            "Iteration 21, loss = 0.23323266\n",
            "Validation score: 0.930556\n",
            "Iteration 22, loss = 0.21895979\n",
            "Validation score: 0.930556\n",
            "Iteration 23, loss = 0.20614979\n",
            "Validation score: 0.937500\n",
            "Iteration 24, loss = 0.19443340\n",
            "Validation score: 0.937500\n",
            "Iteration 25, loss = 0.18386959\n",
            "Validation score: 0.937500\n",
            "Iteration 26, loss = 0.17433798\n",
            "Validation score: 0.937500\n",
            "Iteration 27, loss = 0.16532418\n",
            "Validation score: 0.937500\n",
            "Iteration 28, loss = 0.15723601\n",
            "Validation score: 0.937500\n",
            "Iteration 29, loss = 0.14978858\n",
            "Validation score: 0.937500\n",
            "Iteration 30, loss = 0.14283831\n",
            "Validation score: 0.937500\n",
            "Iteration 31, loss = 0.13613971\n",
            "Validation score: 0.937500\n",
            "Iteration 32, loss = 0.13019929\n",
            "Validation score: 0.944444\n",
            "Iteration 33, loss = 0.12446315\n",
            "Validation score: 0.944444\n",
            "Iteration 34, loss = 0.11907957\n",
            "Validation score: 0.944444\n",
            "Iteration 35, loss = 0.11428387\n",
            "Validation score: 0.944444\n",
            "Iteration 36, loss = 0.10971647\n",
            "Validation score: 0.944444\n",
            "Iteration 37, loss = 0.10528342\n",
            "Validation score: 0.944444\n",
            "Iteration 38, loss = 0.10113991\n",
            "Validation score: 0.944444\n",
            "Iteration 39, loss = 0.09735400\n",
            "Validation score: 0.944444\n",
            "Iteration 40, loss = 0.09364518\n",
            "Validation score: 0.944444\n",
            "Iteration 41, loss = 0.09028293\n",
            "Validation score: 0.944444\n",
            "Iteration 42, loss = 0.08703517\n",
            "Validation score: 0.944444\n",
            "Iteration 43, loss = 0.08399586\n",
            "Validation score: 0.944444\n",
            "Validation score did not improve more than tol=0.000100 for 10 consecutive epochs. Stopping.\n",
            "\n",
            "Train Accuracy: 0.9791231732776617\n",
            "Test Accuracy: 0.9722222222222222\n",
            "Final Loss: 0.08399585570927029\n",
            "Training Time: 0.37 seconds\n"
          ]
        }
      ]
    },
    {
      "cell_type": "code",
      "source": [
        "import matplotlib.pyplot as plt\n",
        "from sklearn.neural_network import MLPClassifier\n",
        "\n",
        "lrs = [0.0001, 0.001, 0.01, 0.1]\n",
        "losses = []\n",
        "\n",
        "for lr in lrs:\n",
        "    mlp = MLPClassifier(hidden_layer_sizes=(5,), learning_rate_init=lr, max_iter=500)\n",
        "    mlp.fit(X, y)\n",
        "    losses.append(mlp.loss_)\n",
        "\n",
        "plt.plot(lrs, losses, marker='o')\n",
        "plt.xlabel(\"Learning Rate\")\n",
        "plt.ylabel(\"Final Loss\")\n",
        "plt.title(\"Learning Rate vs Loss\")\n",
        "plt.show()\n"
      ],
      "metadata": {
        "colab": {
          "base_uri": "https://localhost:8080/",
          "height": 527
        },
        "id": "TnD427K_88ZY",
        "outputId": "a3bd6375-be90-411a-92da-1604a54a6b9d"
      },
      "execution_count": 8,
      "outputs": [
        {
          "output_type": "stream",
          "name": "stderr",
          "text": [
            "/usr/local/lib/python3.12/dist-packages/sklearn/neural_network/_multilayer_perceptron.py:691: ConvergenceWarning: Stochastic Optimizer: Maximum iterations (500) reached and the optimization hasn't converged yet.\n",
            "  warnings.warn(\n"
          ]
        },
        {
          "output_type": "display_data",
          "data": {
            "text/plain": [
              "<Figure size 640x480 with 1 Axes>"
            ],
            "image/png": "[encoded data removed]"
          },
          "metadata": {}
        }
      ]
    },
    {
      "cell_type": "code",
      "source": [
        "import numpy as np\n",
        "\n",
        "neurons_list = [2, 4, 8, 16]\n",
        "lr_list = [0.001, 0.01, 0.1]\n",
        "\n",
        "for n in neurons_list:\n",
        "    for lr in lr_list:\n",
        "        mlp = MLPClassifier(hidden_layer_sizes=(n,), learning_rate_init=lr, max_iter=1000)\n",
        "        mlp.fit(X, y)\n",
        "        print(f\"Neurons: {n}, LR: {lr}, Loss: {mlp.loss_:.4f}\")\n"
      ],
      "metadata": {
        "colab": {
          "base_uri": "https://localhost:8080/"
        },
        "id": "9ogl7TsW9ekX",
        "outputId": "1b92575f-de16-4f6a-f6b5-b14609645bc3"
      },
      "execution_count": 10,
      "outputs": [
        {
          "output_type": "stream",
          "name": "stdout",
          "text": [
            "Neurons: 2, LR: 0.001, Loss: 0.7070\n",
            "Neurons: 2, LR: 0.01, Loss: 0.0306\n",
            "Neurons: 2, LR: 0.1, Loss: 0.6981\n",
            "Neurons: 4, LR: 0.001, Loss: 0.5380\n",
            "Neurons: 4, LR: 0.01, Loss: 0.6933\n",
            "Neurons: 4, LR: 0.1, Loss: 0.0029\n"
          ]
        },
        {
          "output_type": "stream",
          "name": "stderr",
          "text": [
            "/usr/local/lib/python3.12/dist-packages/sklearn/neural_network/_multilayer_perceptron.py:691: ConvergenceWarning: Stochastic Optimizer: Maximum iterations (1000) reached and the optimization hasn't converged yet.\n",
            "  warnings.warn(\n"
          ]
        },
        {
          "output_type": "stream",
          "name": "stdout",
          "text": [
            "Neurons: 8, LR: 0.001, Loss: 0.2550\n",
            "Neurons: 8, LR: 0.01, Loss: 0.0138\n",
            "Neurons: 8, LR: 0.1, Loss: 0.0068\n"
          ]
        },
        {
          "output_type": "stream",
          "name": "stderr",
          "text": [
            "/usr/local/lib/python3.12/dist-packages/sklearn/neural_network/_multilayer_perceptron.py:691: ConvergenceWarning: Stochastic Optimizer: Maximum iterations (1000) reached and the optimization hasn't converged yet.\n",
            "  warnings.warn(\n"
          ]
        },
        {
          "output_type": "stream",
          "name": "stdout",
          "text": [
            "Neurons: 16, LR: 0.001, Loss: 0.2180\n",
            "Neurons: 16, LR: 0.01, Loss: 0.0100\n",
            "Neurons: 16, LR: 0.1, Loss: 0.0015\n"
          ]
        }
      ]
    }
  ]
}